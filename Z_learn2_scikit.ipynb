{
    "nbformat_minor": 2, 
    "nbformat": 4, 
    "cells": [
        {
            "source": "from IPython.display import IFrame\nIFrame('http://archive.ics.uci.edu/ml/machine-learning-databases/iris/iris.data', width=300, height=200)", 
            "execution_count": 1, 
            "metadata": {
                "collapsed": false
            }, 
            "cell_type": "code", 
            "outputs": [
                {
                    "data": {
                        "text/html": "\n        <iframe\n            width=\"300\"\n            height=\"200\"\n            src=\"http://archive.ics.uci.edu/ml/machine-learning-databases/iris/iris.data\"\n            frameborder=\"0\"\n            allowfullscreen\n        ></iframe>\n        ", 
                        "text/plain": "<IPython.lib.display.IFrame at 0x7f0ee41ae898>"
                    }, 
                    "execution_count": 1, 
                    "metadata": {}, 
                    "output_type": "execute_result"
                }
            ]
        }, 
        {
            "source": "# import load_iris function from datasets module\nfrom sklearn.datasets import load_iris", 
            "execution_count": 2, 
            "metadata": {
                "collapsed": true
            }, 
            "cell_type": "code", 
            "outputs": []
        }, 
        {
            "source": "# save \"bunch\" object containing iris dataset and its attributes\niris = load_iris()\ntype(iris)", 
            "execution_count": 3, 
            "metadata": {
                "collapsed": false
            }, 
            "cell_type": "code", 
            "outputs": [
                {
                    "data": {
                        "text/plain": "sklearn.datasets.base.Bunch"
                    }, 
                    "execution_count": 3, 
                    "metadata": {}, 
                    "output_type": "execute_result"
                }
            ]
        }, 
        {
            "source": "# print the iris data\nprint(iris.data)", 
            "execution_count": 4, 
            "metadata": {
                "collapsed": false
            }, 
            "cell_type": "code", 
            "outputs": [
                {
                    "name": "stdout", 
                    "text": "[[ 5.1  3.5  1.4  0.2]\n [ 4.9  3.   1.4  0.2]\n [ 4.7  3.2  1.3  0.2]\n [ 4.6  3.1  1.5  0.2]\n [ 5.   3.6  1.4  0.2]\n [ 5.4  3.9  1.7  0.4]\n [ 4.6  3.4  1.4  0.3]\n [ 5.   3.4  1.5  0.2]\n [ 4.4  2.9  1.4  0.2]\n [ 4.9  3.1  1.5  0.1]\n [ 5.4  3.7  1.5  0.2]\n [ 4.8  3.4  1.6  0.2]\n [ 4.8  3.   1.4  0.1]\n [ 4.3  3.   1.1  0.1]\n [ 5.8  4.   1.2  0.2]\n [ 5.7  4.4  1.5  0.4]\n [ 5.4  3.9  1.3  0.4]\n [ 5.1  3.5  1.4  0.3]\n [ 5.7  3.8  1.7  0.3]\n [ 5.1  3.8  1.5  0.3]\n [ 5.4  3.4  1.7  0.2]\n [ 5.1  3.7  1.5  0.4]\n [ 4.6  3.6  1.   0.2]\n [ 5.1  3.3  1.7  0.5]\n [ 4.8  3.4  1.9  0.2]\n [ 5.   3.   1.6  0.2]\n [ 5.   3.4  1.6  0.4]\n [ 5.2  3.5  1.5  0.2]\n [ 5.2  3.4  1.4  0.2]\n [ 4.7  3.2  1.6  0.2]\n [ 4.8  3.1  1.6  0.2]\n [ 5.4  3.4  1.5  0.4]\n [ 5.2  4.1  1.5  0.1]\n [ 5.5  4.2  1.4  0.2]\n [ 4.9  3.1  1.5  0.1]\n [ 5.   3.2  1.2  0.2]\n [ 5.5  3.5  1.3  0.2]\n [ 4.9  3.1  1.5  0.1]\n [ 4.4  3.   1.3  0.2]\n [ 5.1  3.4  1.5  0.2]\n [ 5.   3.5  1.3  0.3]\n [ 4.5  2.3  1.3  0.3]\n [ 4.4  3.2  1.3  0.2]\n [ 5.   3.5  1.6  0.6]\n [ 5.1  3.8  1.9  0.4]\n [ 4.8  3.   1.4  0.3]\n [ 5.1  3.8  1.6  0.2]\n [ 4.6  3.2  1.4  0.2]\n [ 5.3  3.7  1.5  0.2]\n [ 5.   3.3  1.4  0.2]\n [ 7.   3.2  4.7  1.4]\n [ 6.4  3.2  4.5  1.5]\n [ 6.9  3.1  4.9  1.5]\n [ 5.5  2.3  4.   1.3]\n [ 6.5  2.8  4.6  1.5]\n [ 5.7  2.8  4.5  1.3]\n [ 6.3  3.3  4.7  1.6]\n [ 4.9  2.4  3.3  1. ]\n [ 6.6  2.9  4.6  1.3]\n [ 5.2  2.7  3.9  1.4]\n [ 5.   2.   3.5  1. ]\n [ 5.9  3.   4.2  1.5]\n [ 6.   2.2  4.   1. ]\n [ 6.1  2.9  4.7  1.4]\n [ 5.6  2.9  3.6  1.3]\n [ 6.7  3.1  4.4  1.4]\n [ 5.6  3.   4.5  1.5]\n [ 5.8  2.7  4.1  1. ]\n [ 6.2  2.2  4.5  1.5]\n [ 5.6  2.5  3.9  1.1]\n [ 5.9  3.2  4.8  1.8]\n [ 6.1  2.8  4.   1.3]\n [ 6.3  2.5  4.9  1.5]\n [ 6.1  2.8  4.7  1.2]\n [ 6.4  2.9  4.3  1.3]\n [ 6.6  3.   4.4  1.4]\n [ 6.8  2.8  4.8  1.4]\n [ 6.7  3.   5.   1.7]\n [ 6.   2.9  4.5  1.5]\n [ 5.7  2.6  3.5  1. ]\n [ 5.5  2.4  3.8  1.1]\n [ 5.5  2.4  3.7  1. ]\n [ 5.8  2.7  3.9  1.2]\n [ 6.   2.7  5.1  1.6]\n [ 5.4  3.   4.5  1.5]\n [ 6.   3.4  4.5  1.6]\n [ 6.7  3.1  4.7  1.5]\n [ 6.3  2.3  4.4  1.3]\n [ 5.6  3.   4.1  1.3]\n [ 5.5  2.5  4.   1.3]\n [ 5.5  2.6  4.4  1.2]\n [ 6.1  3.   4.6  1.4]\n [ 5.8  2.6  4.   1.2]\n [ 5.   2.3  3.3  1. ]\n [ 5.6  2.7  4.2  1.3]\n [ 5.7  3.   4.2  1.2]\n [ 5.7  2.9  4.2  1.3]\n [ 6.2  2.9  4.3  1.3]\n [ 5.1  2.5  3.   1.1]\n [ 5.7  2.8  4.1  1.3]\n [ 6.3  3.3  6.   2.5]\n [ 5.8  2.7  5.1  1.9]\n [ 7.1  3.   5.9  2.1]\n [ 6.3  2.9  5.6  1.8]\n [ 6.5  3.   5.8  2.2]\n [ 7.6  3.   6.6  2.1]\n [ 4.9  2.5  4.5  1.7]\n [ 7.3  2.9  6.3  1.8]\n [ 6.7  2.5  5.8  1.8]\n [ 7.2  3.6  6.1  2.5]\n [ 6.5  3.2  5.1  2. ]\n [ 6.4  2.7  5.3  1.9]\n [ 6.8  3.   5.5  2.1]\n [ 5.7  2.5  5.   2. ]\n [ 5.8  2.8  5.1  2.4]\n [ 6.4  3.2  5.3  2.3]\n [ 6.5  3.   5.5  1.8]\n [ 7.7  3.8  6.7  2.2]\n [ 7.7  2.6  6.9  2.3]\n [ 6.   2.2  5.   1.5]\n [ 6.9  3.2  5.7  2.3]\n [ 5.6  2.8  4.9  2. ]\n [ 7.7  2.8  6.7  2. ]\n [ 6.3  2.7  4.9  1.8]\n [ 6.7  3.3  5.7  2.1]\n [ 7.2  3.2  6.   1.8]\n [ 6.2  2.8  4.8  1.8]\n [ 6.1  3.   4.9  1.8]\n [ 6.4  2.8  5.6  2.1]\n [ 7.2  3.   5.8  1.6]\n [ 7.4  2.8  6.1  1.9]\n [ 7.9  3.8  6.4  2. ]\n [ 6.4  2.8  5.6  2.2]\n [ 6.3  2.8  5.1  1.5]\n [ 6.1  2.6  5.6  1.4]\n [ 7.7  3.   6.1  2.3]\n [ 6.3  3.4  5.6  2.4]\n [ 6.4  3.1  5.5  1.8]\n [ 6.   3.   4.8  1.8]\n [ 6.9  3.1  5.4  2.1]\n [ 6.7  3.1  5.6  2.4]\n [ 6.9  3.1  5.1  2.3]\n [ 5.8  2.7  5.1  1.9]\n [ 6.8  3.2  5.9  2.3]\n [ 6.7  3.3  5.7  2.5]\n [ 6.7  3.   5.2  2.3]\n [ 6.3  2.5  5.   1.9]\n [ 6.5  3.   5.2  2. ]\n [ 6.2  3.4  5.4  2.3]\n [ 5.9  3.   5.1  1.8]]\n", 
                    "output_type": "stream"
                }
            ]
        }, 
        {
            "source": "# print the names of the four features\nprint(iris.feature_names)", 
            "execution_count": 5, 
            "metadata": {
                "collapsed": false
            }, 
            "cell_type": "code", 
            "outputs": [
                {
                    "name": "stdout", 
                    "text": "['sepal length (cm)', 'sepal width (cm)', 'petal length (cm)', 'petal width (cm)']\n", 
                    "output_type": "stream"
                }
            ]
        }, 
        {
            "source": "# print integers representing the species of each observation\nprint(iris.target)", 
            "execution_count": 6, 
            "metadata": {
                "collapsed": false
            }, 
            "cell_type": "code", 
            "outputs": [
                {
                    "name": "stdout", 
                    "text": "[0 0 0 0 0 0 0 0 0 0 0 0 0 0 0 0 0 0 0 0 0 0 0 0 0 0 0 0 0 0 0 0 0 0 0 0 0\n 0 0 0 0 0 0 0 0 0 0 0 0 0 1 1 1 1 1 1 1 1 1 1 1 1 1 1 1 1 1 1 1 1 1 1 1 1\n 1 1 1 1 1 1 1 1 1 1 1 1 1 1 1 1 1 1 1 1 1 1 1 1 1 1 2 2 2 2 2 2 2 2 2 2 2\n 2 2 2 2 2 2 2 2 2 2 2 2 2 2 2 2 2 2 2 2 2 2 2 2 2 2 2 2 2 2 2 2 2 2 2 2 2\n 2 2]\n", 
                    "output_type": "stream"
                }
            ]
        }, 
        {
            "source": "# print the encoding scheme for species: 0 = setosa, 1 = versicolor, 2 = virginica\nprint(iris.target_names)", 
            "execution_count": 7, 
            "metadata": {
                "collapsed": false
            }, 
            "cell_type": "code", 
            "outputs": [
                {
                    "name": "stdout", 
                    "text": "['setosa' 'versicolor' 'virginica']\n", 
                    "output_type": "stream"
                }
            ]
        }, 
        {
            "source": "# check the types of the features and response\nprint(type(iris.data))\nprint(type(iris.target))\n# check the shape of the features (first dimension = number of observations, second dimensions = number of features)\nprint(iris.data.shape)\n# check the shape of the response (single dimension matching the number of observations)\nprint(iris.target.shape)", 
            "execution_count": 8, 
            "metadata": {
                "collapsed": false
            }, 
            "cell_type": "code", 
            "outputs": [
                {
                    "name": "stdout", 
                    "text": "<class 'numpy.ndarray'>\n<class 'numpy.ndarray'>\n(150, 4)\n(150,)\n", 
                    "output_type": "stream"
                }
            ]
        }, 
        {
            "source": "# store feature matrix in \"X\"\nX = iris.data\n\n# store response vector in \"y\"\ny = iris.target", 
            "execution_count": 9, 
            "metadata": {
                "collapsed": true
            }, 
            "cell_type": "code", 
            "outputs": []
        }, 
        {
            "source": "from sklearn.neighbors import KNeighborsClassifier\nknn = KNeighborsClassifier(n_neighbors=1)\nprint(knn)", 
            "execution_count": 10, 
            "metadata": {
                "collapsed": false
            }, 
            "cell_type": "code", 
            "outputs": [
                {
                    "name": "stdout", 
                    "text": "KNeighborsClassifier(algorithm='auto', leaf_size=30, metric='minkowski',\n           metric_params=None, n_jobs=1, n_neighbors=1, p=2,\n           weights='uniform')\n", 
                    "output_type": "stream"
                }
            ]
        }, 
        {
            "source": "knn.fit(X, y)", 
            "execution_count": 11, 
            "metadata": {
                "collapsed": false
            }, 
            "cell_type": "code", 
            "outputs": [
                {
                    "data": {
                        "text/plain": "KNeighborsClassifier(algorithm='auto', leaf_size=30, metric='minkowski',\n           metric_params=None, n_jobs=1, n_neighbors=1, p=2,\n           weights='uniform')"
                    }, 
                    "execution_count": 11, 
                    "metadata": {}, 
                    "output_type": "execute_result"
                }
            ]
        }, 
        {
            "source": "knn.predict([[3, 5, 4, 2]])", 
            "execution_count": 12, 
            "metadata": {
                "collapsed": false
            }, 
            "cell_type": "code", 
            "outputs": [
                {
                    "data": {
                        "text/plain": "array([2])"
                    }, 
                    "execution_count": 12, 
                    "metadata": {}, 
                    "output_type": "execute_result"
                }
            ]
        }, 
        {
            "source": "X_new = [[3, 5, 4, 2], [5, 4, 3, 2]]\nknn.predict(X_new)", 
            "execution_count": 13, 
            "metadata": {
                "collapsed": false
            }, 
            "cell_type": "code", 
            "outputs": [
                {
                    "data": {
                        "text/plain": "array([2, 1])"
                    }, 
                    "execution_count": 13, 
                    "metadata": {}, 
                    "output_type": "execute_result"
                }
            ]
        }, 
        {
            "source": "# instantiate the model (using the value K=5)\nknn = KNeighborsClassifier(n_neighbors=5)\n\n# fit the model with data\nknn.fit(X, y)\n\n# predict the response for new observations\nknn.predict(X_new)", 
            "execution_count": 14, 
            "metadata": {
                "collapsed": false
            }, 
            "cell_type": "code", 
            "outputs": [
                {
                    "data": {
                        "text/plain": "array([1, 1])"
                    }, 
                    "execution_count": 14, 
                    "metadata": {}, 
                    "output_type": "execute_result"
                }
            ]
        }, 
        {
            "source": "", 
            "execution_count": null, 
            "metadata": {
                "collapsed": true
            }, 
            "cell_type": "code", 
            "outputs": []
        }
    ], 
    "metadata": {
        "kernelspec": {
            "name": "python3", 
            "language": "python", 
            "display_name": "Python 3.5 (Experimental) with Spark 1.6"
        }, 
        "language_info": {
            "name": "python", 
            "pygments_lexer": "ipython3", 
            "nbconvert_exporter": "python", 
            "mimetype": "text/x-python", 
            "file_extension": ".py", 
            "codemirror_mode": {
                "name": "ipython", 
                "version": 3
            }, 
            "version": "3.5.2"
        }
    }
}