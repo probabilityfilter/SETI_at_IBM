{
    "nbformat": 4, 
    "cells": [
        {
            "cell_type": "code", 
            "execution_count": 1, 
            "metadata": {
                "collapsed": true
            }, 
            "source": "import pandas as pd\nimport lxml\nimport requests\nfrom sklearn.feature_extraction.text import CountVectorizer\nfrom sklearn.cross_validation import train_test_split\nfrom sklearn.naive_bayes import MultinomialNB\nimport warnings\n\nwarnings.filterwarnings(\"ignore\")", 
            "outputs": []
        }, 
        {
            "cell_type": "code", 
            "execution_count": 3, 
            "metadata": {
                "collapsed": false
            }, 
            "source": "from lxml import etree\nurl_list = [\"http://feeds.reuters.com/reuters/businessNews\",\n            \"http://feeds.reuters.com/reuters/technologyNews\",\n            \"http://feeds.reuters.com/reuters/sportsNews\",\n            ]\ndocuments = []\n\nfor url in url_list:\n    response = requests.get(url)\n    xml_page = response.text\n    parser = lxml.etree.XMLParser(recover=True, encoding='utf-8')\n    documents.append(lxml.etree.fromstring(xml_page.encode(\"utf-8\"), parser=parser))", 
            "outputs": []
        }, 
        {
            "cell_type": "code", 
            "execution_count": 4, 
            "metadata": {
                "collapsed": true
            }, 
            "source": "def print_tag(node):\n    print \"<%s %s>%s\" % (node.tag, \" \".join([\"%s=%s\" % (k,v)for k,v in node.attrib.iteritems()]), node.text)\n    for item in node[:25]:\n        print \"  <%s %s>%s</%s>\" % (item.tag, \" \".join([\"%s=%s\" % (k,v)for k,v in item.attrib.iteritems()]), item.text, item.tag)\n    print \"</%s>\" % node.tag", 
            "outputs": []
        }, 
        {
            "cell_type": "code", 
            "execution_count": 5, 
            "metadata": {
                "collapsed": false
            }, 
            "source": "temp_node = documents[0]\nprint_tag(temp_node)", 
            "outputs": [
                {
                    "name": "stdout", 
                    "output_type": "stream", 
                    "text": "<rss version=2.0>\n\n  <channel >\n</channel>\n</rss>\n"
                }
            ]
        }, 
        {
            "cell_type": "code", 
            "execution_count": 6, 
            "metadata": {
                "collapsed": false
            }, 
            "source": "temp_node = temp_node[0]\nprint_tag(temp_node)", 
            "outputs": [
                {
                    "name": "stdout", 
                    "output_type": "stream", 
                    "text": "<channel >\n\n  <title >Reuters: Business News</title>\n  <link >http://www.reuters.com</link>\n  <description >Reuters.com is your source for breaking news, business, financial and investing news, including personal finance and stocks.  Reuters is the leading global provider of news, financial information and technology solutions to the world's media, financial institutions, businesses and individuals.</description>\n  <image >\n\t</image>\n  <language >en-us</language>\n  <lastBuildDate >Sat, 20 May 2017 21:27:29 -0400</lastBuildDate>\n  <copyright >All rights reserved. Users may download and print extracts of content from this website for their own personal and non-commercial use only. Republication or redistribution of Reuters content, including by framing or similar means, is expressly prohibited without the prior written consent of Reuters. Reuters and the Reuters sphere logo are registered trademarks or trademarks of the Reuters group of companies around the world. \u00a9 Reuters 2017</copyright>\n  <{http://www.w3.org/2005/Atom}link rel=self type=application/rss+xml href=http://feeds.reuters.com/reuters/businessNews>None</{http://www.w3.org/2005/Atom}link>\n  <{http://rssnamespace.org/feedburner/ext/1.0}info uri=reuters/businessnews>None</{http://rssnamespace.org/feedburner/ext/1.0}info>\n  <{http://www.w3.org/2005/Atom}link rel=hub href=http://pubsubhubbub.appspot.com/>None</{http://www.w3.org/2005/Atom}link>\n  <{http://rssnamespace.org/feedburner/ext/1.0}feedFlare href=https://add.my.yahoo.com/rss?url=http%3A%2F%2Ffeeds.reuters.com%2Freuters%2FbusinessNews src=http://us.i1.yimg.com/us.yimg.com/i/us/my/addtomyyahoo4.gif>Subscribe with My Yahoo!</{http://rssnamespace.org/feedburner/ext/1.0}feedFlare>\n  <{http://rssnamespace.org/feedburner/ext/1.0}feedFlare href=http://www.newsgator.com/ngs/subscriber/subext.aspx?url=http%3A%2F%2Ffeeds.reuters.com%2Freuters%2FbusinessNews src=http://www.newsgator.com/images/ngsub1.gif>Subscribe with NewsGator</{http://rssnamespace.org/feedburner/ext/1.0}feedFlare>\n  <{http://rssnamespace.org/feedburner/ext/1.0}feedFlare href=http://feeds.my.aol.com/add.jsp?url=http%3A%2F%2Ffeeds.reuters.com%2Freuters%2FbusinessNews src=http://o.aolcdn.com/favorites.my.aol.com/webmaster/ffclient/webroot/locale/en-US/images/myAOLButtonSmall.gif>Subscribe with My AOL</{http://rssnamespace.org/feedburner/ext/1.0}feedFlare>\n  <{http://rssnamespace.org/feedburner/ext/1.0}feedFlare href=http://www.bloglines.com/sub/http://feeds.reuters.com/reuters/businessNews src=http://www.bloglines.com/images/sub_modern11.gif>Subscribe with Bloglines</{http://rssnamespace.org/feedburner/ext/1.0}feedFlare>\n  <{http://rssnamespace.org/feedburner/ext/1.0}feedFlare href=http://www.netvibes.com/subscribe.php?url=http%3A%2F%2Ffeeds.reuters.com%2Freuters%2FbusinessNews src=//www.netvibes.com/img/add2netvibes.gif>Subscribe with Netvibes</{http://rssnamespace.org/feedburner/ext/1.0}feedFlare>\n  <{http://rssnamespace.org/feedburner/ext/1.0}feedFlare href=http://fusion.google.com/add?feedurl=http%3A%2F%2Ffeeds.reuters.com%2Freuters%2FbusinessNews src=http://buttons.googlesyndication.com/fusion/add.gif>Subscribe with Google</{http://rssnamespace.org/feedburner/ext/1.0}feedFlare>\n  <{http://rssnamespace.org/feedburner/ext/1.0}feedFlare href=http://www.pageflakes.com/subscribe.aspx?url=http%3A%2F%2Ffeeds.reuters.com%2Freuters%2FbusinessNews src=http://www.pageflakes.com/ImageFile.ashx?instanceId=Static_4&fileName=ATP_blu_91x17.gif>Subscribe with Pageflakes</{http://rssnamespace.org/feedburner/ext/1.0}feedFlare>\n  <item >\n\t\t</item>\n  <item >\n\t\t</item>\n  <item >\n\t\t</item>\n  <item >\n\t\t</item>\n  <item >\n\t\t</item>\n  <item >\n\t\t</item>\n  <item >\n\t\t</item>\n  <item >\n\t\t</item>\n</channel>\n"
                }
            ]
        }, 
        {
            "cell_type": "code", 
            "execution_count": 7, 
            "metadata": {
                "collapsed": false
            }, 
            "source": "temp_node = temp_node.xpath(\"item\")[0]\nprint_tag(temp_node)", 
            "outputs": [
                {
                    "name": "stdout", 
                    "output_type": "stream", 
                    "text": "<item >\n\t\t\n  <title >U.S., Saudi firms sign tens of billions of dollars of deals as Trump visits</title>\n  <description >RIYADH (Reuters) - U.S. and Saudi Arabian companies signed business deals worth tens of billions of dollars on Saturday during a visit by U.S. President Donald Trump, as Riyadh seeks help to develop its economy beyond oil.<div class=\"feedflare\">\n<a href=\"http://feeds.reuters.com/~ff/reuters/businessNews?a=oCoKkh6qpTk:_MSXTUxcDgI:yIl2AUoC8zA\"><img src=\"http://feeds.feedburner.com/~ff/reuters/businessNews?d=yIl2AUoC8zA\" border=\"0\"></img></a> <a href=\"http://feeds.reuters.com/~ff/reuters/businessNews?a=oCoKkh6qpTk:_MSXTUxcDgI:F7zBnMyn0Lo\"><img src=\"http://feeds.feedburner.com/~ff/reuters/businessNews?i=oCoKkh6qpTk:_MSXTUxcDgI:F7zBnMyn0Lo\" border=\"0\"></img></a> <a href=\"http://feeds.reuters.com/~ff/reuters/businessNews?a=oCoKkh6qpTk:_MSXTUxcDgI:V_sGLiPBpWU\"><img src=\"http://feeds.feedburner.com/~ff/reuters/businessNews?i=oCoKkh6qpTk:_MSXTUxcDgI:V_sGLiPBpWU\" border=\"0\"></img></a>\n</div><img src=\"http://feeds.feedburner.com/~r/reuters/businessNews/~4/oCoKkh6qpTk\" height=\"1\" width=\"1\" alt=\"\"/></description>\n  <link >http://feeds.reuters.com/~r/reuters/businessNews/~3/oCoKkh6qpTk/us-saudi-usa-trump-deals-idUSKCN18G05P</link>\n  <guid isPermaLink=false>http://www.reuters.com/article/us-saudi-usa-trump-deals-idUSKCN18G05P?feedType=RSS&feedName=businessNews</guid>\n  <category >businessNews</category>\n  <pubDate >Sat, 20 May 2017 14:35:24 -0400</pubDate>\n  <{http://rssnamespace.org/feedburner/ext/1.0}origLink >http://www.reuters.com/article/us-saudi-usa-trump-deals-idUSKCN18G05P?feedType=RSS&feedName=businessNews</{http://rssnamespace.org/feedburner/ext/1.0}origLink>\n</item>\n"
                }
            ]
        }, 
        {
            "cell_type": "code", 
            "execution_count": 10, 
            "metadata": {
                "collapsed": false
            }, 
            "source": "title_list = []\ndescription_list = []\ncategory_list = []\n\nfor xml_doc in documents:\n    articles = xml_doc.xpath(\"//item\")\n    for article in articles:\n        title_list.append(article[0].text)\n        description_list.append(article[1].text)\n        category_list.append(article[4].text)\n        \n\nnews_data = pd.DataFrame(title_list, columns=[\"title\"])\nnews_data[\"description\"] = description_list\nnews_data[\"category\"] = category_list\nprint len(news_data)\nnews_data", 
            "outputs": [
                {
                    "name": "stdout", 
                    "output_type": "stream", 
                    "text": "30\n"
                }, 
                {
                    "data": {
                        "text/html": "<div>\n<table border=\"1\" class=\"dataframe\">\n  <thead>\n    <tr style=\"text-align: right;\">\n      <th></th>\n      <th>title</th>\n      <th>description</th>\n      <th>category</th>\n    </tr>\n  </thead>\n  <tbody>\n    <tr>\n      <th>0</th>\n      <td>U.S., Saudi firms sign tens of billions of dol...</td>\n      <td>RIYADH (Reuters) - U.S. and Saudi Arabian comp...</td>\n      <td>businessNews</td>\n    </tr>\n    <tr>\n      <th>1</th>\n      <td>Softbank-Saudi tech fund becomes world's bigge...</td>\n      <td>RIYADH (Reuters) - The world's largest private...</td>\n      <td>businessNews</td>\n    </tr>\n    <tr>\n      <th>2</th>\n      <td>GE announces $15 billion of business deals wit...</td>\n      <td>RIYADH (Reuters) - U.S. technology and enginee...</td>\n      <td>businessNews</td>\n    </tr>\n    <tr>\n      <th>3</th>\n      <td>Blackstone, Saudi's PIF plan $40 billion infra...</td>\n      <td>RIYADH (Reuters) - U.S. private equity firm Bl...</td>\n      <td>businessNews</td>\n    </tr>\n    <tr>\n      <th>4</th>\n      <td>Softer dollar may be stock silver lining amid ...</td>\n      <td>NEW YORK (Reuters) - With S&amp;P 500 companies se...</td>\n      <td>businessNews</td>\n    </tr>\n    <tr>\n      <th>5</th>\n      <td>With new sheriff in town, South Korea big busi...</td>\n      <td>SEOUL (Reuters) - A South Korean retail giant ...</td>\n      <td>businessNews</td>\n    </tr>\n    <tr>\n      <th>6</th>\n      <td>About 37,000 AT&amp;T workers go on three-day strike</td>\n      <td>(Reuters) - About 37,000 AT&amp;T Inc  workers, or...</td>\n      <td>businessNews</td>\n    </tr>\n    <tr>\n      <th>7</th>\n      <td>U.S. tax cut hopes sent state collections down...</td>\n      <td>CHICAGO (Reuters) - U.S. states collected less...</td>\n      <td>businessNews</td>\n    </tr>\n    <tr>\n      <th>8</th>\n      <td>U.S. regulators open probe into recall of near...</td>\n      <td>WASHINGTON/SEOUL (Reuters) - U.S. safety regul...</td>\n      <td>businessNews</td>\n    </tr>\n    <tr>\n      <th>9</th>\n      <td>Trump to offer exclusive contract to service U...</td>\n      <td>WASHINGTON (Reuters) - President Donald Trump'...</td>\n      <td>businessNews</td>\n    </tr>\n    <tr>\n      <th>10</th>\n      <td>Softbank-Saudi tech fund becomes world's bigge...</td>\n      <td>RIYADH (Reuters) - The world's largest private...</td>\n      <td>technologyNews</td>\n    </tr>\n    <tr>\n      <th>11</th>\n      <td>French researchers find way to unlock WannaCry...</td>\n      <td>FRANKFURT (Reuters) - French researchers said ...</td>\n      <td>technologyNews</td>\n    </tr>\n    <tr>\n      <th>12</th>\n      <td>WannaCry attack is good business for cyber sec...</td>\n      <td>SAN FRANCISCO (Reuters) - For Kris Hagerman, c...</td>\n      <td>technologyNews</td>\n    </tr>\n    <tr>\n      <th>13</th>\n      <td>Ford using first over-the-air software updates...</td>\n      <td>SAN FRANCISCO (Reuters) - Ford Motor Co said o...</td>\n      <td>technologyNews</td>\n    </tr>\n    <tr>\n      <th>14</th>\n      <td>Companies use kidnap insurance to guard agains...</td>\n      <td>NEW YORK/LONDON (Reuters) - Companies without ...</td>\n      <td>technologyNews</td>\n    </tr>\n    <tr>\n      <th>15</th>\n      <td>WannaCry cyber attack compromised some Russian...</td>\n      <td>MOSCOW (Reuters) - The WannaCry ransomware att...</td>\n      <td>technologyNews</td>\n    </tr>\n    <tr>\n      <th>16</th>\n      <td>Amid industry pushback, China offers changes t...</td>\n      <td>BEIJING (Reuters) - China may delay full imple...</td>\n      <td>technologyNews</td>\n    </tr>\n    <tr>\n      <th>17</th>\n      <td>London City Airport's flights to be controlled...</td>\n      <td>LONDON (Reuters) - If you fly into London City...</td>\n      <td>technologyNews</td>\n    </tr>\n    <tr>\n      <th>18</th>\n      <td>North Korea says linking cyber attacks to Pyon...</td>\n      <td>UNITED NATIONS (Reuters) - North Korea's deput...</td>\n      <td>technologyNews</td>\n    </tr>\n    <tr>\n      <th>19</th>\n      <td>EU executive asks bank watchdog to rethink 'sc...</td>\n      <td>LONDON (Reuters) - The European Union's financ...</td>\n      <td>technologyNews</td>\n    </tr>\n    <tr>\n      <th>20</th>\n      <td>Djokovic back on song to set up Zverev final i...</td>\n      <td>(Reuters) - Novak Djokovic made a timely retur...</td>\n      <td>sportsNews</td>\n    </tr>\n    <tr>\n      <th>21</th>\n      <td>Cloud Computing pulls surprise to win Preakness</td>\n      <td>(Reuters) - Cloud Computing pulled off a major...</td>\n      <td>sportsNews</td>\n    </tr>\n    <tr>\n      <th>22</th>\n      <td>Celtics' Thomas out for rest of playoffs with ...</td>\n      <td>(The Sports Xchange) - Boston Celtics guard Is...</td>\n      <td>sportsNews</td>\n    </tr>\n    <tr>\n      <th>23</th>\n      <td>Turkish NBA star denied entry to Romania after...</td>\n      <td>BUCHAREST (Reuters) - U.S.-based Turkish baske...</td>\n      <td>sportsNews</td>\n    </tr>\n    <tr>\n      <th>24</th>\n      <td>Holders Canada stun Russia with third-period c...</td>\n      <td>COLOGNE (Reuters) - Canada staged a sensationa...</td>\n      <td>sportsNews</td>\n    </tr>\n    <tr>\n      <th>25</th>\n      <td>Former L.A. Dodgers manager Tommy Lasorda hosp...</td>\n      <td>LOS ANGELES (Reuters) - Former Los Angeles Dod...</td>\n      <td>sportsNews</td>\n    </tr>\n    <tr>\n      <th>26</th>\n      <td>Brady did not have concussion last year: agent</td>\n      <td>(Reuters) - New England Patriots quarterback T...</td>\n      <td>sportsNews</td>\n    </tr>\n    <tr>\n      <th>27</th>\n      <td>Hahn grabs lead on 'Moving Day' ahead of Horsc...</td>\n      <td>(Reuters) - Jason Day made the most of a frant...</td>\n      <td>sportsNews</td>\n    </tr>\n    <tr>\n      <th>28</th>\n      <td>Dodger Turner sidelined with hamstring strain</td>\n      <td>(Reuters) - The Los Angeles Dodgers placed Maj...</td>\n      <td>sportsNews</td>\n    </tr>\n    <tr>\n      <th>29</th>\n      <td>Another win for Buemi in Paris Formula E race</td>\n      <td>PARIS (Reuters) - Switzerland's reigning champ...</td>\n      <td>sportsNews</td>\n    </tr>\n  </tbody>\n</table>\n</div>", 
                        "text/plain": "                                                title  \\\n0   U.S., Saudi firms sign tens of billions of dol...   \n1   Softbank-Saudi tech fund becomes world's bigge...   \n2   GE announces $15 billion of business deals wit...   \n3   Blackstone, Saudi's PIF plan $40 billion infra...   \n4   Softer dollar may be stock silver lining amid ...   \n5   With new sheriff in town, South Korea big busi...   \n6    About 37,000 AT&T workers go on three-day strike   \n7   U.S. tax cut hopes sent state collections down...   \n8   U.S. regulators open probe into recall of near...   \n9   Trump to offer exclusive contract to service U...   \n10  Softbank-Saudi tech fund becomes world's bigge...   \n11  French researchers find way to unlock WannaCry...   \n12  WannaCry attack is good business for cyber sec...   \n13  Ford using first over-the-air software updates...   \n14  Companies use kidnap insurance to guard agains...   \n15  WannaCry cyber attack compromised some Russian...   \n16  Amid industry pushback, China offers changes t...   \n17  London City Airport's flights to be controlled...   \n18  North Korea says linking cyber attacks to Pyon...   \n19  EU executive asks bank watchdog to rethink 'sc...   \n20  Djokovic back on song to set up Zverev final i...   \n21    Cloud Computing pulls surprise to win Preakness   \n22  Celtics' Thomas out for rest of playoffs with ...   \n23  Turkish NBA star denied entry to Romania after...   \n24  Holders Canada stun Russia with third-period c...   \n25  Former L.A. Dodgers manager Tommy Lasorda hosp...   \n26     Brady did not have concussion last year: agent   \n27  Hahn grabs lead on 'Moving Day' ahead of Horsc...   \n28      Dodger Turner sidelined with hamstring strain   \n29      Another win for Buemi in Paris Formula E race   \n\n                                          description        category  \n0   RIYADH (Reuters) - U.S. and Saudi Arabian comp...    businessNews  \n1   RIYADH (Reuters) - The world's largest private...    businessNews  \n2   RIYADH (Reuters) - U.S. technology and enginee...    businessNews  \n3   RIYADH (Reuters) - U.S. private equity firm Bl...    businessNews  \n4   NEW YORK (Reuters) - With S&P 500 companies se...    businessNews  \n5   SEOUL (Reuters) - A South Korean retail giant ...    businessNews  \n6   (Reuters) - About 37,000 AT&T Inc  workers, or...    businessNews  \n7   CHICAGO (Reuters) - U.S. states collected less...    businessNews  \n8   WASHINGTON/SEOUL (Reuters) - U.S. safety regul...    businessNews  \n9   WASHINGTON (Reuters) - President Donald Trump'...    businessNews  \n10  RIYADH (Reuters) - The world's largest private...  technologyNews  \n11  FRANKFURT (Reuters) - French researchers said ...  technologyNews  \n12  SAN FRANCISCO (Reuters) - For Kris Hagerman, c...  technologyNews  \n13  SAN FRANCISCO (Reuters) - Ford Motor Co said o...  technologyNews  \n14  NEW YORK/LONDON (Reuters) - Companies without ...  technologyNews  \n15  MOSCOW (Reuters) - The WannaCry ransomware att...  technologyNews  \n16  BEIJING (Reuters) - China may delay full imple...  technologyNews  \n17  LONDON (Reuters) - If you fly into London City...  technologyNews  \n18  UNITED NATIONS (Reuters) - North Korea's deput...  technologyNews  \n19  LONDON (Reuters) - The European Union's financ...  technologyNews  \n20  (Reuters) - Novak Djokovic made a timely retur...      sportsNews  \n21  (Reuters) - Cloud Computing pulled off a major...      sportsNews  \n22  (The Sports Xchange) - Boston Celtics guard Is...      sportsNews  \n23  BUCHAREST (Reuters) - U.S.-based Turkish baske...      sportsNews  \n24  COLOGNE (Reuters) - Canada staged a sensationa...      sportsNews  \n25  LOS ANGELES (Reuters) - Former Los Angeles Dod...      sportsNews  \n26  (Reuters) - New England Patriots quarterback T...      sportsNews  \n27  (Reuters) - Jason Day made the most of a frant...      sportsNews  \n28  (Reuters) - The Los Angeles Dodgers placed Maj...      sportsNews  \n29  PARIS (Reuters) - Switzerland's reigning champ...      sportsNews  "
                    }, 
                    "execution_count": 10, 
                    "metadata": {}, 
                    "output_type": "execute_result"
                }
            ]
        }, 
        {
            "cell_type": "code", 
            "execution_count": 11, 
            "metadata": {
                "collapsed": false
            }, 
            "source": "news_data[\"description\"].head()", 
            "outputs": [
                {
                    "data": {
                        "text/plain": "0    RIYADH (Reuters) - U.S. and Saudi Arabian comp...\n1    RIYADH (Reuters) - The world's largest private...\n2    RIYADH (Reuters) - U.S. technology and enginee...\n3    RIYADH (Reuters) - U.S. private equity firm Bl...\n4    NEW YORK (Reuters) - With S&P 500 companies se...\nName: description, dtype: object"
                    }, 
                    "execution_count": 11, 
                    "metadata": {}, 
                    "output_type": "execute_result"
                }
            ]
        }, 
        {
            "cell_type": "code", 
            "execution_count": 12, 
            "metadata": {
                "collapsed": false
            }, 
            "source": "print news_data[\"description\"][0]", 
            "outputs": [
                {
                    "name": "stdout", 
                    "output_type": "stream", 
                    "text": "RIYADH (Reuters) - U.S. and Saudi Arabian companies signed business deals worth tens of billions of dollars on Saturday during a visit by U.S. President Donald Trump, as Riyadh seeks help to develop its economy beyond oil.<div class=\"feedflare\">\n<a href=\"http://feeds.reuters.com/~ff/reuters/businessNews?a=oCoKkh6qpTk:_MSXTUxcDgI:yIl2AUoC8zA\"><img src=\"http://feeds.feedburner.com/~ff/reuters/businessNews?d=yIl2AUoC8zA\" border=\"0\"></img></a> <a href=\"http://feeds.reuters.com/~ff/reuters/businessNews?a=oCoKkh6qpTk:_MSXTUxcDgI:F7zBnMyn0Lo\"><img src=\"http://feeds.feedburner.com/~ff/reuters/businessNews?i=oCoKkh6qpTk:_MSXTUxcDgI:F7zBnMyn0Lo\" border=\"0\"></img></a> <a href=\"http://feeds.reuters.com/~ff/reuters/businessNews?a=oCoKkh6qpTk:_MSXTUxcDgI:V_sGLiPBpWU\"><img src=\"http://feeds.feedburner.com/~ff/reuters/businessNews?i=oCoKkh6qpTk:_MSXTUxcDgI:V_sGLiPBpWU\" border=\"0\"></img></a>\n</div><img src=\"http://feeds.feedburner.com/~r/reuters/businessNews/~4/oCoKkh6qpTk\" height=\"1\" width=\"1\" alt=\"\"/>\n"
                }
            ]
        }, 
        {
            "cell_type": "code", 
            "execution_count": 16, 
            "metadata": {
                "collapsed": false
            }, 
            "source": "%%HTML\nRIYADH (Reuters) - U.S. and Saudi Arabian companies signed business deals worth tens of billions of dollars on Saturday during a visit by U.S. President Donald Trump, as Riyadh seeks help to develop its economy beyond oil.<div class=\"feedflare\">\n<a href=\"http://feeds.reuters.com/~ff/reuters/businessNews?a=oCoKkh6qpTk:_MSXTUxcDgI:yIl2AUoC8zA\"><img src=\"http://feeds.feedburner.com/~ff/reuters/businessNews?d=yIl2AUoC8zA\" border=\"0\"></img></a> <a href=\"http://feeds.reuters.com/~ff/reuters/businessNews?a=oCoKkh6qpTk:_MSXTUxcDgI:F7zBnMyn0Lo\"><img src=\"http://feeds.feedburner.com/~ff/reuters/businessNews?i=oCoKkh6qpTk:_MSXTUxcDgI:F7zBnMyn0Lo\" border=\"0\"></img></a> <a href=\"http://feeds.reuters.com/~ff/reuters/businessNews?a=oCoKkh6qpTk:_MSXTUxcDgI:V_sGLiPBpWU\"><img src=\"http://feeds.feedburner.com/~ff/reuters/businessNews?i=oCoKkh6qpTk:_MSXTUxcDgI:V_sGLiPBpWU\" border=\"0\"></img></a>\n</div><img src=\"http://feeds.feedburner.com/~r/reuters/businessNews/~4/oCoKkh6qpTk\" height=\"1\" width=\"1\" alt=\"\"/>", 
            "outputs": [
                {
                    "data": {
                        "text/html": "RIYADH (Reuters) - U.S. and Saudi Arabian companies signed business deals worth tens of billions of dollars on Saturday during a visit by U.S. President Donald Trump, as Riyadh seeks help to develop its economy beyond oil.<div class=\"feedflare\">\n<a href=\"http://feeds.reuters.com/~ff/reuters/businessNews?a=oCoKkh6qpTk:_MSXTUxcDgI:yIl2AUoC8zA\"><img src=\"http://feeds.feedburner.com/~ff/reuters/businessNews?d=yIl2AUoC8zA\" border=\"0\"></img></a> <a href=\"http://feeds.reuters.com/~ff/reuters/businessNews?a=oCoKkh6qpTk:_MSXTUxcDgI:F7zBnMyn0Lo\"><img src=\"http://feeds.feedburner.com/~ff/reuters/businessNews?i=oCoKkh6qpTk:_MSXTUxcDgI:F7zBnMyn0Lo\" border=\"0\"></img></a> <a href=\"http://feeds.reuters.com/~ff/reuters/businessNews?a=oCoKkh6qpTk:_MSXTUxcDgI:V_sGLiPBpWU\"><img src=\"http://feeds.feedburner.com/~ff/reuters/businessNews?i=oCoKkh6qpTk:_MSXTUxcDgI:V_sGLiPBpWU\" border=\"0\"></img></a>\n</div><img src=\"http://feeds.feedburner.com/~r/reuters/businessNews/~4/oCoKkh6qpTk\" height=\"1\" width=\"1\" alt=\"\"/>", 
                        "text/plain": "<IPython.core.display.HTML object>"
                    }, 
                    "metadata": {}, 
                    "output_type": "display_data"
                }
            ]
        }, 
        {
            "cell_type": "code", 
            "execution_count": 17, 
            "metadata": {
                "collapsed": false
            }, 
            "source": "news_data[\"short_description\"] = [item[item.find(\" - \")+3:item.find(\"<\")] for item in news_data[\"description\"]]\nnews_data", 
            "outputs": [
                {
                    "data": {
                        "text/html": "<div>\n<table border=\"1\" class=\"dataframe\">\n  <thead>\n    <tr style=\"text-align: right;\">\n      <th></th>\n      <th>title</th>\n      <th>description</th>\n      <th>category</th>\n      <th>short_description</th>\n    </tr>\n  </thead>\n  <tbody>\n    <tr>\n      <th>0</th>\n      <td>U.S., Saudi firms sign tens of billions of dol...</td>\n      <td>RIYADH (Reuters) - U.S. and Saudi Arabian comp...</td>\n      <td>businessNews</td>\n      <td>U.S. and Saudi Arabian companies signed busine...</td>\n    </tr>\n    <tr>\n      <th>1</th>\n      <td>Softbank-Saudi tech fund becomes world's bigge...</td>\n      <td>RIYADH (Reuters) - The world's largest private...</td>\n      <td>businessNews</td>\n      <td>The world's largest private equity fund, backe...</td>\n    </tr>\n    <tr>\n      <th>2</th>\n      <td>GE announces $15 billion of business deals wit...</td>\n      <td>RIYADH (Reuters) - U.S. technology and enginee...</td>\n      <td>businessNews</td>\n      <td>U.S. technology and engineering conglomerate G...</td>\n    </tr>\n    <tr>\n      <th>3</th>\n      <td>Blackstone, Saudi's PIF plan $40 billion infra...</td>\n      <td>RIYADH (Reuters) - U.S. private equity firm Bl...</td>\n      <td>businessNews</td>\n      <td>U.S. private equity firm Blackstone  and Saudi...</td>\n    </tr>\n    <tr>\n      <th>4</th>\n      <td>Softer dollar may be stock silver lining amid ...</td>\n      <td>NEW YORK (Reuters) - With S&amp;P 500 companies se...</td>\n      <td>businessNews</td>\n      <td>With S&amp;P 500 companies set to notch their stro...</td>\n    </tr>\n    <tr>\n      <th>5</th>\n      <td>With new sheriff in town, South Korea big busi...</td>\n      <td>SEOUL (Reuters) - A South Korean retail giant ...</td>\n      <td>businessNews</td>\n      <td>A South Korean retail giant has shelved contro...</td>\n    </tr>\n    <tr>\n      <th>6</th>\n      <td>About 37,000 AT&amp;T workers go on three-day strike</td>\n      <td>(Reuters) - About 37,000 AT&amp;T Inc  workers, or...</td>\n      <td>businessNews</td>\n      <td>About 37,000 AT&amp;T Inc  workers, or less than 1...</td>\n    </tr>\n    <tr>\n      <th>7</th>\n      <td>U.S. tax cut hopes sent state collections down...</td>\n      <td>CHICAGO (Reuters) - U.S. states collected less...</td>\n      <td>businessNews</td>\n      <td>U.S. states collected less personal income tax...</td>\n    </tr>\n    <tr>\n      <th>8</th>\n      <td>U.S. regulators open probe into recall of near...</td>\n      <td>WASHINGTON/SEOUL (Reuters) - U.S. safety regul...</td>\n      <td>businessNews</td>\n      <td>U.S. safety regulators have opened a formal in...</td>\n    </tr>\n    <tr>\n      <th>9</th>\n      <td>Trump to offer exclusive contract to service U...</td>\n      <td>WASHINGTON (Reuters) - President Donald Trump'...</td>\n      <td>businessNews</td>\n      <td>President Donald Trump's administration will s...</td>\n    </tr>\n    <tr>\n      <th>10</th>\n      <td>Softbank-Saudi tech fund becomes world's bigge...</td>\n      <td>RIYADH (Reuters) - The world's largest private...</td>\n      <td>technologyNews</td>\n      <td>The world's largest private equity fund, backe...</td>\n    </tr>\n    <tr>\n      <th>11</th>\n      <td>French researchers find way to unlock WannaCry...</td>\n      <td>FRANKFURT (Reuters) - French researchers said ...</td>\n      <td>technologyNews</td>\n      <td>French researchers said on Friday they had fou...</td>\n    </tr>\n    <tr>\n      <th>12</th>\n      <td>WannaCry attack is good business for cyber sec...</td>\n      <td>SAN FRANCISCO (Reuters) - For Kris Hagerman, c...</td>\n      <td>technologyNews</td>\n      <td>For Kris Hagerman, chief executive of UK-based...</td>\n    </tr>\n    <tr>\n      <th>13</th>\n      <td>Ford using first over-the-air software updates...</td>\n      <td>SAN FRANCISCO (Reuters) - Ford Motor Co said o...</td>\n      <td>technologyNews</td>\n      <td>Ford Motor Co said on Friday it would delve in...</td>\n    </tr>\n    <tr>\n      <th>14</th>\n      <td>Companies use kidnap insurance to guard agains...</td>\n      <td>NEW YORK/LONDON (Reuters) - Companies without ...</td>\n      <td>technologyNews</td>\n      <td>Companies without cyber insurance are dusting ...</td>\n    </tr>\n    <tr>\n      <th>15</th>\n      <td>WannaCry cyber attack compromised some Russian...</td>\n      <td>MOSCOW (Reuters) - The WannaCry ransomware att...</td>\n      <td>technologyNews</td>\n      <td>The WannaCry ransomware attack compromised the...</td>\n    </tr>\n    <tr>\n      <th>16</th>\n      <td>Amid industry pushback, China offers changes t...</td>\n      <td>BEIJING (Reuters) - China may delay full imple...</td>\n      <td>technologyNews</td>\n      <td>China may delay full implementation of controv...</td>\n    </tr>\n    <tr>\n      <th>17</th>\n      <td>London City Airport's flights to be controlled...</td>\n      <td>LONDON (Reuters) - If you fly into London City...</td>\n      <td>technologyNews</td>\n      <td>If you fly into London City in two years' time...</td>\n    </tr>\n    <tr>\n      <th>18</th>\n      <td>North Korea says linking cyber attacks to Pyon...</td>\n      <td>UNITED NATIONS (Reuters) - North Korea's deput...</td>\n      <td>technologyNews</td>\n      <td>North Korea's deputy United Nations envoy said...</td>\n    </tr>\n    <tr>\n      <th>19</th>\n      <td>EU executive asks bank watchdog to rethink 'sc...</td>\n      <td>LONDON (Reuters) - The European Union's financ...</td>\n      <td>technologyNews</td>\n      <td>The European Union's financial services chief ...</td>\n    </tr>\n    <tr>\n      <th>20</th>\n      <td>Djokovic back on song to set up Zverev final i...</td>\n      <td>(Reuters) - Novak Djokovic made a timely retur...</td>\n      <td>sportsNews</td>\n      <td>Novak Djokovic made a timely return to his bri...</td>\n    </tr>\n    <tr>\n      <th>21</th>\n      <td>Cloud Computing pulls surprise to win Preakness</td>\n      <td>(Reuters) - Cloud Computing pulled off a major...</td>\n      <td>sportsNews</td>\n      <td>Cloud Computing pulled off a major surprise in...</td>\n    </tr>\n    <tr>\n      <th>22</th>\n      <td>Celtics' Thomas out for rest of playoffs with ...</td>\n      <td>(The Sports Xchange) - Boston Celtics guard Is...</td>\n      <td>sportsNews</td>\n      <td>Boston Celtics guard Isaiah Thomas will miss t...</td>\n    </tr>\n    <tr>\n      <th>23</th>\n      <td>Turkish NBA star denied entry to Romania after...</td>\n      <td>BUCHAREST (Reuters) - U.S.-based Turkish baske...</td>\n      <td>sportsNews</td>\n      <td>U.S.-based Turkish basketball star Enes Kanter...</td>\n    </tr>\n    <tr>\n      <th>24</th>\n      <td>Holders Canada stun Russia with third-period c...</td>\n      <td>COLOGNE (Reuters) - Canada staged a sensationa...</td>\n      <td>sportsNews</td>\n      <td>Canada staged a sensational third period comeb...</td>\n    </tr>\n    <tr>\n      <th>25</th>\n      <td>Former L.A. Dodgers manager Tommy Lasorda hosp...</td>\n      <td>LOS ANGELES (Reuters) - Former Los Angeles Dod...</td>\n      <td>sportsNews</td>\n      <td>Former Los Angeles Dodgers manager Tommy Lasor...</td>\n    </tr>\n    <tr>\n      <th>26</th>\n      <td>Brady did not have concussion last year: agent</td>\n      <td>(Reuters) - New England Patriots quarterback T...</td>\n      <td>sportsNews</td>\n      <td>New England Patriots quarterback Tom Brady was...</td>\n    </tr>\n    <tr>\n      <th>27</th>\n      <td>Hahn grabs lead on 'Moving Day' ahead of Horsc...</td>\n      <td>(Reuters) - Jason Day made the most of a frant...</td>\n      <td>sportsNews</td>\n      <td>Jason Day made the most of a frantic moving da...</td>\n    </tr>\n    <tr>\n      <th>28</th>\n      <td>Dodger Turner sidelined with hamstring strain</td>\n      <td>(Reuters) - The Los Angeles Dodgers placed Maj...</td>\n      <td>sportsNews</td>\n      <td>The Los Angeles Dodgers placed Major League Ba...</td>\n    </tr>\n    <tr>\n      <th>29</th>\n      <td>Another win for Buemi in Paris Formula E race</td>\n      <td>PARIS (Reuters) - Switzerland's reigning champ...</td>\n      <td>sportsNews</td>\n      <td>Switzerland's reigning champion Sebastien Buem...</td>\n    </tr>\n  </tbody>\n</table>\n</div>", 
                        "text/plain": "                                                title  \\\n0   U.S., Saudi firms sign tens of billions of dol...   \n1   Softbank-Saudi tech fund becomes world's bigge...   \n2   GE announces $15 billion of business deals wit...   \n3   Blackstone, Saudi's PIF plan $40 billion infra...   \n4   Softer dollar may be stock silver lining amid ...   \n5   With new sheriff in town, South Korea big busi...   \n6    About 37,000 AT&T workers go on three-day strike   \n7   U.S. tax cut hopes sent state collections down...   \n8   U.S. regulators open probe into recall of near...   \n9   Trump to offer exclusive contract to service U...   \n10  Softbank-Saudi tech fund becomes world's bigge...   \n11  French researchers find way to unlock WannaCry...   \n12  WannaCry attack is good business for cyber sec...   \n13  Ford using first over-the-air software updates...   \n14  Companies use kidnap insurance to guard agains...   \n15  WannaCry cyber attack compromised some Russian...   \n16  Amid industry pushback, China offers changes t...   \n17  London City Airport's flights to be controlled...   \n18  North Korea says linking cyber attacks to Pyon...   \n19  EU executive asks bank watchdog to rethink 'sc...   \n20  Djokovic back on song to set up Zverev final i...   \n21    Cloud Computing pulls surprise to win Preakness   \n22  Celtics' Thomas out for rest of playoffs with ...   \n23  Turkish NBA star denied entry to Romania after...   \n24  Holders Canada stun Russia with third-period c...   \n25  Former L.A. Dodgers manager Tommy Lasorda hosp...   \n26     Brady did not have concussion last year: agent   \n27  Hahn grabs lead on 'Moving Day' ahead of Horsc...   \n28      Dodger Turner sidelined with hamstring strain   \n29      Another win for Buemi in Paris Formula E race   \n\n                                          description        category  \\\n0   RIYADH (Reuters) - U.S. and Saudi Arabian comp...    businessNews   \n1   RIYADH (Reuters) - The world's largest private...    businessNews   \n2   RIYADH (Reuters) - U.S. technology and enginee...    businessNews   \n3   RIYADH (Reuters) - U.S. private equity firm Bl...    businessNews   \n4   NEW YORK (Reuters) - With S&P 500 companies se...    businessNews   \n5   SEOUL (Reuters) - A South Korean retail giant ...    businessNews   \n6   (Reuters) - About 37,000 AT&T Inc  workers, or...    businessNews   \n7   CHICAGO (Reuters) - U.S. states collected less...    businessNews   \n8   WASHINGTON/SEOUL (Reuters) - U.S. safety regul...    businessNews   \n9   WASHINGTON (Reuters) - President Donald Trump'...    businessNews   \n10  RIYADH (Reuters) - The world's largest private...  technologyNews   \n11  FRANKFURT (Reuters) - French researchers said ...  technologyNews   \n12  SAN FRANCISCO (Reuters) - For Kris Hagerman, c...  technologyNews   \n13  SAN FRANCISCO (Reuters) - Ford Motor Co said o...  technologyNews   \n14  NEW YORK/LONDON (Reuters) - Companies without ...  technologyNews   \n15  MOSCOW (Reuters) - The WannaCry ransomware att...  technologyNews   \n16  BEIJING (Reuters) - China may delay full imple...  technologyNews   \n17  LONDON (Reuters) - If you fly into London City...  technologyNews   \n18  UNITED NATIONS (Reuters) - North Korea's deput...  technologyNews   \n19  LONDON (Reuters) - The European Union's financ...  technologyNews   \n20  (Reuters) - Novak Djokovic made a timely retur...      sportsNews   \n21  (Reuters) - Cloud Computing pulled off a major...      sportsNews   \n22  (The Sports Xchange) - Boston Celtics guard Is...      sportsNews   \n23  BUCHAREST (Reuters) - U.S.-based Turkish baske...      sportsNews   \n24  COLOGNE (Reuters) - Canada staged a sensationa...      sportsNews   \n25  LOS ANGELES (Reuters) - Former Los Angeles Dod...      sportsNews   \n26  (Reuters) - New England Patriots quarterback T...      sportsNews   \n27  (Reuters) - Jason Day made the most of a frant...      sportsNews   \n28  (Reuters) - The Los Angeles Dodgers placed Maj...      sportsNews   \n29  PARIS (Reuters) - Switzerland's reigning champ...      sportsNews   \n\n                                    short_description  \n0   U.S. and Saudi Arabian companies signed busine...  \n1   The world's largest private equity fund, backe...  \n2   U.S. technology and engineering conglomerate G...  \n3   U.S. private equity firm Blackstone  and Saudi...  \n4   With S&P 500 companies set to notch their stro...  \n5   A South Korean retail giant has shelved contro...  \n6   About 37,000 AT&T Inc  workers, or less than 1...  \n7   U.S. states collected less personal income tax...  \n8   U.S. safety regulators have opened a formal in...  \n9   President Donald Trump's administration will s...  \n10  The world's largest private equity fund, backe...  \n11  French researchers said on Friday they had fou...  \n12  For Kris Hagerman, chief executive of UK-based...  \n13  Ford Motor Co said on Friday it would delve in...  \n14  Companies without cyber insurance are dusting ...  \n15  The WannaCry ransomware attack compromised the...  \n16  China may delay full implementation of controv...  \n17  If you fly into London City in two years' time...  \n18  North Korea's deputy United Nations envoy said...  \n19  The European Union's financial services chief ...  \n20  Novak Djokovic made a timely return to his bri...  \n21  Cloud Computing pulled off a major surprise in...  \n22  Boston Celtics guard Isaiah Thomas will miss t...  \n23  U.S.-based Turkish basketball star Enes Kanter...  \n24  Canada staged a sensational third period comeb...  \n25  Former Los Angeles Dodgers manager Tommy Lasor...  \n26  New England Patriots quarterback Tom Brady was...  \n27  Jason Day made the most of a frantic moving da...  \n28  The Los Angeles Dodgers placed Major League Ba...  \n29  Switzerland's reigning champion Sebastien Buem...  "
                    }, 
                    "execution_count": 17, 
                    "metadata": {}, 
                    "output_type": "execute_result"
                }
            ]
        }, 
        {
            "cell_type": "code", 
            "execution_count": 18, 
            "metadata": {
                "collapsed": false
            }, 
            "source": "corpus = news_data[\"short_description\"]\nvectorizer = CountVectorizer(min_df=1)\nX = vectorizer.fit_transform(corpus).toarray()\nprint X.shape\nX", 
            "outputs": [
                {
                    "name": "stdout", 
                    "output_type": "stream", 
                    "text": "(30, 573)\n"
                }, 
                {
                    "data": {
                        "text/plain": "array([[0, 0, 0, ..., 0, 0, 0],\n       [0, 0, 0, ..., 0, 0, 0],\n       [0, 0, 0, ..., 0, 0, 0],\n       ..., \n       [0, 0, 0, ..., 0, 0, 0],\n       [0, 1, 0, ..., 0, 0, 0],\n       [0, 0, 0, ..., 0, 0, 0]])"
                    }, 
                    "execution_count": 18, 
                    "metadata": {}, 
                    "output_type": "execute_result"
                }
            ]
        }, 
        {
            "cell_type": "code", 
            "execution_count": 19, 
            "metadata": {
                "collapsed": false
            }, 
            "source": "vectorizer.get_feature_names()[:25]", 
            "outputs": [
                {
                    "data": {
                        "text/plain": "[u'000',\n u'10',\n u'14',\n u'15',\n u'1980s',\n u'2016',\n u'37',\n u'40',\n u'500',\n u'63',\n u'70',\n u'93',\n u'about',\n u'accessing',\n u'according',\n u'accounts',\n u'acknowledgement',\n u'adding',\n u'administration',\n u'affiliate',\n u'after',\n u'against',\n u'agent',\n u'aggravating',\n u'ago']"
                    }, 
                    "execution_count": 19, 
                    "metadata": {}, 
                    "output_type": "execute_result"
                }
            ]
        }, 
        {
            "cell_type": "code", 
            "execution_count": 20, 
            "metadata": {
                "collapsed": false
            }, 
            "source": "categories = news_data[\"category\"].unique()\ncategory_dict = {value:index for index, value in enumerate(categories)}\nresults = news_data[\"category\"].map(category_dict)\ncategory_dict", 
            "outputs": [
                {
                    "data": {
                        "text/plain": "{'businessNews': 0, 'sportsNews': 2, 'technologyNews': 1}"
                    }, 
                    "execution_count": 20, 
                    "metadata": {}, 
                    "output_type": "execute_result"
                }
            ]
        }, 
        {
            "cell_type": "code", 
            "execution_count": 21, 
            "metadata": {
                "collapsed": false
            }, 
            "source": "print \"corpus size: %s\" % len(vectorizer.get_feature_names())", 
            "outputs": [
                {
                    "name": "stdout", 
                    "output_type": "stream", 
                    "text": "corpus size: 573\n"
                }
            ]
        }, 
        {
            "cell_type": "code", 
            "execution_count": 22, 
            "metadata": {
                "collapsed": false
            }, 
            "source": "# Multinomial Naive Bayes Cassifier\nx_train,x_test, y_train,y_test = train_test_split(X, results, test_size=0.2, random_state=1, )\nclf = MultinomialNB()\nclf.fit(x_train, y_train)\nclf.score(x_test, y_test)", 
            "outputs": [
                {
                    "data": {
                        "text/plain": "0.83333333333333337"
                    }, 
                    "execution_count": 22, 
                    "metadata": {}, 
                    "output_type": "execute_result"
                }
            ]
        }, 
        {
            "cell_type": "code", 
            "execution_count": 23, 
            "metadata": {
                "collapsed": false
            }, 
            "source": "y_test", 
            "outputs": [
                {
                    "data": {
                        "text/plain": "17    1\n21    2\n10    1\n19    1\n14    1\n20    2\nName: category, dtype: int64"
                    }, 
                    "execution_count": 23, 
                    "metadata": {}, 
                    "output_type": "execute_result"
                }
            ]
        }, 
        {
            "cell_type": "code", 
            "execution_count": 24, 
            "metadata": {
                "collapsed": false
            }, 
            "source": "clf.predict(x_test)", 
            "outputs": [
                {
                    "data": {
                        "text/plain": "array([1, 2, 0, 1, 1, 2])"
                    }, 
                    "execution_count": 24, 
                    "metadata": {}, 
                    "output_type": "execute_result"
                }
            ]
        }, 
        {
            "cell_type": "code", 
            "execution_count": 25, 
            "metadata": {
                "collapsed": false
            }, 
            "source": "text = [\"Who won the Superbawl?\"]\nvec_text = vectorizer.transform(text).toarray()\ncategory_dict.keys()[category_dict.values().index(clf.predict(vec_text)[0])]", 
            "outputs": [
                {
                    "data": {
                        "text/plain": "'sportsNews'"
                    }, 
                    "execution_count": 25, 
                    "metadata": {}, 
                    "output_type": "execute_result"
                }
            ]
        }, 
        {
            "cell_type": "code", 
            "execution_count": 26, 
            "metadata": {
                "collapsed": false
            }, 
            "source": "text = [\"Where is the president\"]\nvec_text = vectorizer.transform(text).toarray()\ncategory_dict.keys()[category_dict.values().index(clf.predict(vec_text)[0])]", 
            "outputs": [
                {
                    "data": {
                        "text/plain": "'businessNews'"
                    }, 
                    "execution_count": 26, 
                    "metadata": {}, 
                    "output_type": "execute_result"
                }
            ]
        }, 
        {
            "cell_type": "code", 
            "execution_count": 27, 
            "metadata": {
                "collapsed": false
            }, 
            "source": "text = [\"season\"]\nvec_text = vectorizer.transform(text).toarray()\ncategory_dict.keys()[category_dict.values().index(clf.predict(vec_text)[0])]", 
            "outputs": [
                {
                    "data": {
                        "text/plain": "'sportsNews'"
                    }, 
                    "execution_count": 27, 
                    "metadata": {}, 
                    "output_type": "execute_result"
                }
            ]
        }, 
        {
            "cell_type": "code", 
            "execution_count": 28, 
            "metadata": {
                "collapsed": false
            }, 
            "source": "text = [\"unemployment\"]\nvec_text = vectorizer.transform(text).toarray()\ncategory_dict.keys()[category_dict.values().index(clf.predict(vec_text)[0])]", 
            "outputs": [
                {
                    "data": {
                        "text/plain": "'businessNews'"
                    }, 
                    "execution_count": 28, 
                    "metadata": {}, 
                    "output_type": "execute_result"
                }
            ]
        }, 
        {
            "cell_type": "code", 
            "execution_count": 29, 
            "metadata": {
                "collapsed": false
            }, 
            "source": "text = [\"defense\"]\nvec_text = vectorizer.transform(text).toarray()\ncategory_dict.keys()[category_dict.values().index(clf.predict(vec_text)[0])]", 
            "outputs": [
                {
                    "data": {
                        "text/plain": "'businessNews'"
                    }, 
                    "execution_count": 29, 
                    "metadata": {}, 
                    "output_type": "execute_result"
                }
            ]
        }, 
        {
            "cell_type": "code", 
            "execution_count": 30, 
            "metadata": {
                "collapsed": false
            }, 
            "source": "text = [\"machine learning\"]\nvec_text = vectorizer.transform(text).toarray()\ncategory_dict.keys()[category_dict.values().index(clf.predict(vec_text)[0])]", 
            "outputs": [
                {
                    "data": {
                        "text/plain": "'businessNews'"
                    }, 
                    "execution_count": 30, 
                    "metadata": {}, 
                    "output_type": "execute_result"
                }
            ]
        }, 
        {
            "cell_type": "code", 
            "execution_count": null, 
            "metadata": {
                "collapsed": true
            }, 
            "source": "", 
            "outputs": []
        }
    ], 
    "metadata": {
        "kernelspec": {
            "display_name": "Python 2 with Spark 2.0", 
            "language": "python", 
            "name": "python2-spark20"
        }, 
        "language_info": {
            "codemirror_mode": {
                "version": 2, 
                "name": "ipython"
            }, 
            "version": "2.7.11", 
            "name": "python", 
            "file_extension": ".py", 
            "nbconvert_exporter": "python", 
            "mimetype": "text/x-python", 
            "pygments_lexer": "ipython2"
        }
    }, 
    "nbformat_minor": 0
}